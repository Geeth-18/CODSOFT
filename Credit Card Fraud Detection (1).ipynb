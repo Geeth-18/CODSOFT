{
 "cells": [
  {
   "cell_type": "code",
   "execution_count": 2,
   "id": "586f71c1-e1be-4aa6-8e6b-767972892fba",
   "metadata": {},
   "outputs": [
    {
     "name": "stdout",
     "output_type": "stream",
     "text": [
      "Dataset loaded\n",
      "Shape: (284807, 31)\n",
      "   Time        V1        V2        V3        V4        V5        V6        V7  \\\n",
      "0   0.0 -1.359807 -0.072781  2.536347  1.378155 -0.338321  0.462388  0.239599   \n",
      "1   0.0  1.191857  0.266151  0.166480  0.448154  0.060018 -0.082361 -0.078803   \n",
      "2   1.0 -1.358354 -1.340163  1.773209  0.379780 -0.503198  1.800499  0.791461   \n",
      "3   1.0 -0.966272 -0.185226  1.792993 -0.863291 -0.010309  1.247203  0.237609   \n",
      "4   2.0 -1.158233  0.877737  1.548718  0.403034 -0.407193  0.095921  0.592941   \n",
      "\n",
      "         V8        V9  ...       V21       V22       V23       V24       V25  \\\n",
      "0  0.098698  0.363787  ... -0.018307  0.277838 -0.110474  0.066928  0.128539   \n",
      "1  0.085102 -0.255425  ... -0.225775 -0.638672  0.101288 -0.339846  0.167170   \n",
      "2  0.247676 -1.514654  ...  0.247998  0.771679  0.909412 -0.689281 -0.327642   \n",
      "3  0.377436 -1.387024  ... -0.108300  0.005274 -0.190321 -1.175575  0.647376   \n",
      "4 -0.270533  0.817739  ... -0.009431  0.798278 -0.137458  0.141267 -0.206010   \n",
      "\n",
      "        V26       V27       V28  Amount  Class  \n",
      "0 -0.189115  0.133558 -0.021053  149.62      0  \n",
      "1  0.125895 -0.008983  0.014724    2.69      0  \n",
      "2 -0.139097 -0.055353 -0.059752  378.66      0  \n",
      "3 -0.221929  0.062723  0.061458  123.50      0  \n",
      "4  0.502292  0.219422  0.215153   69.99      0  \n",
      "\n",
      "[5 rows x 31 columns]\n"
     ]
    }
   ],
   "source": [
    "import os\n",
    "import warnings\n",
    "import pandas as pd\n",
    "import matplotlib.pyplot as plt\n",
    "import seaborn as sns\n",
    "from sklearn.model_selection import train_test_split\n",
    "from sklearn.preprocessing import StandardScaler\n",
    "from sklearn.linear_model import LogisticRegression\n",
    "from sklearn.metrics import confusion_matrix, classification_report\n",
    "from imblearn.over_sampling import SMOTE\n",
    "\n",
    "# Suppress warnings (for clean output)\n",
    "warnings.filterwarnings(\"ignore\", category=UserWarning)\n",
    "os.environ[\"LOKY_MAX_CPU_COUNT\"] = \"4\"\n",
    "\n",
    "df = pd.read_csv(\"creditcard.csv\")\n",
    "\n",
    "print(\"Dataset loaded\")\n",
    "print(\"Shape:\", df.shape)\n",
    "print(df.head())"
   ]
  },
  {
   "cell_type": "code",
   "execution_count": 5,
   "id": "85055d9a-8d81-4426-b34a-14d91b20a0fc",
   "metadata": {},
   "outputs": [
    {
     "name": "stdout",
     "output_type": "stream",
     "text": [
      "Features shape: (284807, 30)\n",
      "Target shape: (284807,)\n",
      "\n",
      "Class Distribution:\n",
      " Class\n",
      "0    284315\n",
      "1       492\n",
      "Name: count, dtype: int64\n"
     ]
    }
   ],
   "source": [
    "X = df.drop(\"Class\", axis=1)\n",
    "y = df[\"Class\"]\n",
    "\n",
    "print(\"Features shape:\", X.shape)\n",
    "print(\"Target shape:\", y.shape)\n",
    "print(\"\\nClass Distribution:\\n\",y.value_counts())"
   ]
  },
  {
   "cell_type": "code",
   "execution_count": 7,
   "id": "688437e5-bf94-4d9c-87bc-4286c0b24e03",
   "metadata": {},
   "outputs": [
    {
     "name": "stdout",
     "output_type": "stream",
     "text": [
      "All normalized feature rows:\n",
      "            Time        V1        V2        V3        V4        V5        V6  \\\n",
      "0      -1.996583 -0.694242 -0.044075  1.672773  0.973366 -0.245117  0.347068   \n",
      "1      -1.996583  0.608496  0.161176  0.109797  0.316523  0.043483 -0.061820   \n",
      "2      -1.996562 -0.693500 -0.811578  1.169468  0.268231 -0.364572  1.351454   \n",
      "3      -1.996562 -0.493325 -0.112169  1.182516 -0.609727 -0.007469  0.936150   \n",
      "4      -1.996541 -0.591330  0.531541  1.021412  0.284655 -0.295015  0.071999   \n",
      "...          ...       ...       ...       ...       ...       ...       ...   \n",
      "284802  1.641931 -6.065842  6.099286 -6.486245 -1.459641 -3.886611 -1.956690   \n",
      "284803  1.641952 -0.374121 -0.033356  1.342145 -0.521651  0.629040  0.794446   \n",
      "284804  1.641974  0.980024 -0.182434 -2.143205 -0.393984  1.905833  2.275262   \n",
      "284805  1.641974 -0.122755  0.321250  0.463320  0.487192 -0.273836  0.468155   \n",
      "284806  1.642058 -0.272331 -0.114899  0.463866 -0.357570 -0.009089 -0.487602   \n",
      "\n",
      "              V7        V8        V9  ...       V20       V21       V22  \\\n",
      "0       0.193679  0.082637  0.331128  ...  0.326118 -0.024923  0.382854   \n",
      "1      -0.063700  0.071253 -0.232494  ... -0.089611 -0.307377 -0.880077   \n",
      "2       0.639776  0.207373 -1.378675  ...  0.680975  0.337632  1.063358   \n",
      "3       0.192071  0.316018 -1.262503  ... -0.269855 -0.147443  0.007267   \n",
      "4       0.479302 -0.226510  0.744326  ...  0.529939 -0.012839  1.100011   \n",
      "...          ...       ...       ...  ...       ...       ...       ...   \n",
      "284802 -3.975628  6.116573  1.742559  ...  1.914365  0.290602  0.154146   \n",
      "284803  0.019667  0.246886  0.532299  ...  0.077330  0.291625  1.273781   \n",
      "284804 -0.239939  0.593140  0.393630  ...  0.001811  0.315913  0.796788   \n",
      "284805 -0.554672  0.568631  0.356887  ...  0.165300  0.361112  1.102451   \n",
      "284806  1.274769 -0.347176  0.442532  ...  0.496739  0.355411  0.886149   \n",
      "\n",
      "             V23       V24       V25       V26       V27       V28    Amount  \n",
      "0      -0.176911  0.110507  0.246585 -0.392170  0.330892 -0.063781  0.244964  \n",
      "1       0.162201 -0.561131  0.320694  0.261069 -0.022256  0.044608 -0.342475  \n",
      "2       1.456320 -1.138092 -0.628537 -0.288447 -0.137137 -0.181021  1.160686  \n",
      "3      -0.304777 -1.941027  1.241904 -0.460217  0.155396  0.186189  0.140534  \n",
      "4      -0.220123  0.233250 -0.395202  1.041611  0.543620  0.651816 -0.073403  \n",
      "...          ...       ...       ...       ...       ...       ...       ...  \n",
      "284802  1.624574 -0.841000  2.756320  0.518500  2.337901  2.495529 -0.350151  \n",
      "284803  0.019958 -1.677920 -1.163726 -0.819647  0.169641 -0.162164 -0.254117  \n",
      "284804 -0.060053  1.056944  0.509797 -0.181182  0.011037 -0.080467 -0.081839  \n",
      "284805 -0.261503  0.203428 -1.091855  1.133635  0.269604  0.316687 -0.313249  \n",
      "284806  0.603365  0.014526 -0.908631 -1.696853 -0.005984  0.041350  0.514355  \n",
      "\n",
      "[284807 rows x 30 columns]\n"
     ]
    }
   ],
   "source": [
    "scaler = StandardScaler()\n",
    "X_scaled = scaler.fit_transform(X)\n",
    "print(\"All normalized feature rows:\")\n",
    "print(pd.DataFrame(X_scaled, columns=X.columns).head(284807))"
   ]
  },
  {
   "cell_type": "code",
   "execution_count": 8,
   "id": "a5dd891a-50f4-410d-bb4d-84f4b2591991",
   "metadata": {},
   "outputs": [
    {
     "name": "stdout",
     "output_type": "stream",
     "text": [
      "After SMOTE:\n",
      "X: (568630, 30)\n",
      "y: (568630,)\n"
     ]
    }
   ],
   "source": [
    "smote = SMOTE(random_state=42)\n",
    "X_resampled, y_resampled = smote.fit_resample(X_scaled, y)\n",
    "\n",
    "print(\"After SMOTE:\")\n",
    "print(\"X:\", X_resampled.shape)\n",
    "print(\"y:\", y_resampled.shape)"
   ]
  },
  {
   "cell_type": "code",
   "execution_count": 9,
   "id": "bd0aad30-8186-4608-8eb8-ee9c43945a46",
   "metadata": {},
   "outputs": [
    {
     "name": "stdout",
     "output_type": "stream",
     "text": [
      "Train shape: (398041, 30)\n",
      "Test shape: (170589, 30)\n"
     ]
    }
   ],
   "source": [
    "X_train, X_test, y_train, y_test = train_test_split(\n",
    "    X_resampled, y_resampled, test_size=0.3, random_state=42)\n",
    "\n",
    "print(\"Train shape:\", X_train.shape)\n",
    "print(\"Test shape:\", X_test.shape)"
   ]
  },
  {
   "cell_type": "code",
   "execution_count": 10,
   "id": "c640ddcb-aa11-4368-9f28-1a2e75455ff8",
   "metadata": {},
   "outputs": [
    {
     "name": "stdout",
     "output_type": "stream",
     "text": [
      "Logistic Regression model trained\n"
     ]
    }
   ],
   "source": [
    "model = LogisticRegression(max_iter=1000, random_state=42)\n",
    "model.fit(X_train, y_train)\n",
    "\n",
    "print(\"Logistic Regression model trained\")"
   ]
  },
  {
   "cell_type": "code",
   "execution_count": 11,
   "id": "fc1f4d04-a156-4bee-a5cd-1ab34a8865ab",
   "metadata": {},
   "outputs": [
    {
     "name": "stdout",
     "output_type": "stream",
     "text": [
      "\n",
      "Confusion Matrix:\n",
      " [[83028  2121]\n",
      " [ 6494 78946]]\n",
      "\n",
      "Classification Report:\n",
      "               precision    recall  f1-score   support\n",
      "\n",
      "           0       0.93      0.98      0.95     85149\n",
      "           1       0.97      0.92      0.95     85440\n",
      "\n",
      "    accuracy                           0.95    170589\n",
      "   macro avg       0.95      0.95      0.95    170589\n",
      "weighted avg       0.95      0.95      0.95    170589\n",
      "\n"
     ]
    },
    {
     "data": {
      "image/png": "[encoded data removed]",
      "text/plain": [
       "<Figure size 600x400 with 2 Axes>"
      ]
     },
     "metadata": {},
     "output_type": "display_data"
    }
   ],
   "source": [
    "y_pred = model.predict(X_test)\n",
    "\n",
    "cm = confusion_matrix(y_test, y_pred)\n",
    "print(\"\\nConfusion Matrix:\\n\", cm)\n",
    "\n",
    "print(\"\\nClassification Report:\\n\", classification_report(y_test, y_pred))\n",
    "\n",
    "#heatmap\n",
    "plt.figure(figsize=(6, 4))\n",
    "sns.heatmap(cm, annot=True, fmt=\"d\", cmap=\"Purples\",xticklabels=[\"Genuine\", \"Fraud\"],yticklabels=[\"Genuine\", \"Fraud\"])\n",
    "plt.title(\"Confusion Matrix\")\n",
    "plt.xlabel(\"Predicted\")\n",
    "plt.ylabel(\"Actual\")\n",
    "plt.show()"
   ]
  },
  {
   "cell_type": "code",
   "execution_count": null,
   "id": "7cd79eea-562b-4c3e-bfdb-1d1068bc107a",
   "metadata": {},
   "outputs": [],
   "source": []
  }
 ],
 "metadata": {
  "kernelspec": {
   "display_name": "Python 3 (ipykernel)",
   "language": "python",
   "name": "python3"
  },
  "language_info": {
   "codemirror_mode": {
    "name": "ipython",
    "version": 3
   },
   "file_extension": ".py",
   "mimetype": "text/x-python",
   "name": "python",
   "nbconvert_exporter": "python",
   "pygments_lexer": "ipython3",
   "version": "3.13.5"
  }
 },
 "nbformat": 4,
 "nbformat_minor": 5
}
