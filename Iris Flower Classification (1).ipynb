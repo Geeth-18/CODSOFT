{
 "cells": [
  {
   "cell_type": "code",
   "execution_count": 8,
   "id": "1ddab20c-f5af-4443-add7-f452ba6f45a7",
   "metadata": {},
   "outputs": [
    {
     "name": "stdout",
     "output_type": "stream",
     "text": [
      "     sepal_length  sepal_width  petal_length  petal_width         species\n",
      "0             5.1          3.5           1.4          0.2     Iris-setosa\n",
      "1             4.9          3.0           1.4          0.2     Iris-setosa\n",
      "2             4.7          3.2           1.3          0.2     Iris-setosa\n",
      "3             4.6          3.1           1.5          0.2     Iris-setosa\n",
      "4             5.0          3.6           1.4          0.2     Iris-setosa\n",
      "..            ...          ...           ...          ...             ...\n",
      "145           6.7          3.0           5.2          2.3  Iris-virginica\n",
      "146           6.3          2.5           5.0          1.9  Iris-virginica\n",
      "147           6.5          3.0           5.2          2.0  Iris-virginica\n",
      "148           6.2          3.4           5.4          2.3  Iris-virginica\n",
      "149           5.9          3.0           5.1          1.8  Iris-virginica\n",
      "\n",
      "[150 rows x 5 columns]\n",
      "\n",
      "Label mapping: {0: 'Iris-setosa', 1: 'Iris-versicolor', 2: 'Iris-virginica'}\n"
     ]
    }
   ],
   "source": [
    "import pandas as pd\n",
    "from sklearn.model_selection import train_test_split\n",
    "from sklearn.linear_model import LogisticRegression\n",
    "from sklearn.naive_bayes import GaussianNB\n",
    "from sklearn.metrics import accuracy_score\n",
    "from sklearn.preprocessing import LabelEncoder\n",
    "\n",
    "# Load your dataset CSV file\n",
    "csv_path = \"IRIS.csv\"\n",
    "\n",
    "# Read CSV into DataFrame\n",
    "df = pd.read_csv(csv_path)\n",
    "\n",
    "# Show rows of the data\n",
    "print(df.head(150))\n",
    "\n",
    "# Separate features and target\n",
    "X = df.iloc[:, :-1]   \n",
    "y = df.iloc[:, -1]   \n",
    "\n",
    "# Convert species names to numbers\n",
    "le = LabelEncoder()\n",
    "y = le.fit_transform(y)\n",
    "\n",
    "# Create a dictionary to map numbers back to species names\n",
    "label_map = {i: species for i, species in enumerate(le.classes_)}\n",
    "\n",
    "print(\"\\nLabel mapping:\", label_map)\n"
   ]
  },
  {
   "cell_type": "code",
   "execution_count": 13,
   "id": "784c94fb-9b68-4227-a541-f6f220f81376",
   "metadata": {},
   "outputs": [
    {
     "name": "stdout",
     "output_type": "stream",
     "text": [
      "Training shape: (120, 4)\n",
      "Testing shape: (30, 4)\n"
     ]
    }
   ],
   "source": [
    "X_train, X_test, y_train, y_test = train_test_split(\n",
    "    X, y, test_size=0.2, random_state=42\n",
    ")\n",
    "\n",
    "print(\"Training shape:\", X_train.shape)\n",
    "print(\"Testing shape:\", X_test.shape)"
   ]
  },
  {
   "cell_type": "code",
   "execution_count": 14,
   "id": "e237aec7-ec9e-45ba-9c71-940368cff4ac",
   "metadata": {},
   "outputs": [
    {
     "name": "stdout",
     "output_type": "stream",
     "text": [
      "Models trained successfully\n"
     ]
    }
   ],
   "source": [
    "log_model = LogisticRegression(max_iter=200)\n",
    "log_model.fit(X_train, y_train)\n",
    "\n",
    "nb_model = GaussianNB()\n",
    "nb_model.fit(X_train, y_train)\n",
    "\n",
    "print(\"Models trained successfully\")\n"
   ]
  },
  {
   "cell_type": "code",
   "execution_count": 15,
   "id": "dc1c03d1-e76c-4c62-8d42-3c50d3096434",
   "metadata": {},
   "outputs": [
    {
     "name": "stdout",
     "output_type": "stream",
     "text": [
      "Logistic Regression Accuracy: 1.0\n",
      "Gaussian Naive Bayes Accuracy: 1.0\n"
     ]
    }
   ],
   "source": [
    "log_preds = log_model.predict(X_test)\n",
    "nb_preds = nb_model.predict(X_test)\n",
    "\n",
    "log_acc = accuracy_score(y_test, log_preds)\n",
    "nb_acc = accuracy_score(y_test, nb_preds)\n",
    "\n",
    "print(\"Logistic Regression Accuracy:\", log_acc)\n",
    "print(\"Gaussian Naive Bayes Accuracy:\", nb_acc)\n"
   ]
  },
  {
   "cell_type": "code",
   "execution_count": 20,
   "id": "2533f8cf-f374-4f35-bba6-692a652acaee",
   "metadata": {},
   "outputs": [
    {
     "name": "stdout",
     "output_type": "stream",
     "text": [
      "Logistic Regression Prediction: Iris-setosa\n",
      "Gaussian NB Prediction: Iris-setosa\n"
     ]
    }
   ],
   "source": [
    "sample = [[5.1, 3.5, 1.4, 0.2]]\n",
    "\n",
    "sample_df = pd.DataFrame(sample, columns=X.columns)\n",
    "\n",
    "log_result = label_map[log_model.predict(sample_df)[0]]\n",
    "nb_result = label_map[nb_model.predict(sample_df)[0]]\n",
    "\n",
    "print(\"Logistic Regression Prediction:\", log_result)\n",
    "print(\"Gaussian NB Prediction:\", nb_result)\n"
   ]
  },
  {
   "cell_type": "code",
   "execution_count": null,
   "id": "c05dda12-522b-4792-8ff4-5d6446f5d2a6",
   "metadata": {},
   "outputs": [],
   "source": []
  }
 ],
 "metadata": {
  "kernelspec": {
   "display_name": "Python 3 (ipykernel)",
   "language": "python",
   "name": "python3"
  },
  "language_info": {
   "codemirror_mode": {
    "name": "ipython",
    "version": 3
   },
   "file_extension": ".py",
   "mimetype": "text/x-python",
   "name": "python",
   "nbconvert_exporter": "python",
   "pygments_lexer": "ipython3",
   "version": "3.13.5"
  }
 },
 "nbformat": 4,
 "nbformat_minor": 5
}
